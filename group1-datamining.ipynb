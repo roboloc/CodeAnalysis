{
  "nbformat": 4,
  "nbformat_minor": 0,
  "metadata": {
    "colab": {
      "provenance": [],
      "authorship_tag": "ABX9TyMyGbAfYhtY5c3KrKiTrIND",
      "include_colab_link": true
    },
    "kernelspec": {
      "name": "python3",
      "display_name": "Python 3"
    },
    "language_info": {
      "name": "python"
    }
  },
  "cells": [
    {
      "cell_type": "markdown",
      "metadata": {
        "id": "view-in-github",
        "colab_type": "text"
      },
      "source": [
        "<a href=\"https://colab.research.google.com/gist/roboloc/5f0eeaa5de4392e54dccaee5262e52a8/group1-datamining.ipynb\" target=\"_parent\"><img src=\"https://colab.research.google.com/assets/colab-badge.svg\" alt=\"Open In Colab\"/></a>"
      ]
    },
    {
      "cell_type": "code",
      "execution_count": null,
      "metadata": {
        "id": "wWvrBjKjhUsW"
      },
      "outputs": [],
      "source": [
        "import pandas as pd\n",
        "import numpy as np \n",
        "import seaborn as sns\n",
        "import matplotlib.pyplot as plt\n",
        "from sklearn.cluster import KMeans\n",
        "\n",
        "\n",
        "df = pd.read_excel('Group1_DATARUMAH.xlsx')"
      ]
    },
    {
      "cell_type": "code",
      "source": [
        "df"
      ],
      "metadata": {
        "colab": {
          "base_uri": "https://localhost:8080/",
          "height": 423
        },
        "id": "wwi9U9FiicLQ",
        "outputId": "0e20dccc-f58b-4ee4-a024-5486c87d62ab"
      },
      "execution_count": null,
      "outputs": [
        {
          "output_type": "execute_result",
          "data": {
            "text/plain": [
              "        NO                                         NAMA RUMAH        HARGA  \\\n",
              "0        1  Rumah Murah Hook Tebet Timur, Tebet, Jakarta S...   3800000000   \n",
              "1        2  Rumah Modern di Tebet dekat Stasiun, Tebet, Ja...   4600000000   \n",
              "2        3  Rumah Mewah 2 Lantai Hanya 3 Menit Ke Tebet, T...   3000000000   \n",
              "3        4           Rumah Baru Tebet, Tebet, Jakarta Selatan    430000000   \n",
              "4        5  Rumah Bagus Tebet komp Gudang Peluru lt 350m, ...   9000000000   \n",
              "...    ...                                                ...          ...   \n",
              "1005  1006  Rumah Strategis Akses Jalan 2mobil Di Menteng ...   9000000000   \n",
              "1006  1007             Tebet Rumah Siap Huni Jln 2 Mbl Nyaman   4000000000   \n",
              "1007  1008        Di Kebun Baru Rumah Terawat, Area Strategis   4000000000   \n",
              "1008  1009  Dijual Cepat Rumah Komp Depkeu Dr Soepomo Tebe...  19000000000   \n",
              "1009  1010                Dijual Rumah Kokoh Di Gudang Peluru  10500000000   \n",
              "\n",
              "       LB   LT  KT  KM  GRS         Daerah      Range  \n",
              "0     220  220   3   3    0    Tebet Timur  100jt-16m  \n",
              "1     180  137   4   3    2         Tebet   100jt-16m  \n",
              "2     267  250   4   4    4         Tebet   100jt-16m  \n",
              "3      40   25   2   2    0         Tebet   100jt-16m  \n",
              "4     400  355   6   5    3          Tebet  100jt-16m  \n",
              "...   ...  ...  ..  ..  ...            ...        ...  \n",
              "1005  450  550  10  10    1  Menteng Dalam  100jt-16m  \n",
              "1006  160  140   4   3    1          Tebet  100jt-16m  \n",
              "1007  139  230   4   4    1     Kebon baru  100jt-16m  \n",
              "1008  360  606   7   4    1          Tebet  16,1m-32m  \n",
              "1009  420  430   7   4    1          Tebet  100jt-16m  \n",
              "\n",
              "[1010 rows x 10 columns]"
            ],
            "text/html": [
              "\n",
              "  <div id=\"df-0ae6098c-5338-4ce5-bb84-bd3995ece4d9\">\n",
              "    <div class=\"colab-df-container\">\n",
              "      <div>\n",
              "<style scoped>\n",
              "    .dataframe tbody tr th:only-of-type {\n",
              "        vertical-align: middle;\n",
              "    }\n",
              "\n",
              "    .dataframe tbody tr th {\n",
              "        vertical-align: top;\n",
              "    }\n",
              "\n",
              "    .dataframe thead th {\n",
              "        text-align: right;\n",
              "    }\n",
              "</style>\n",
              "<table border=\"1\" class=\"dataframe\">\n",
              "  <thead>\n",
              "    <tr style=\"text-align: right;\">\n",
              "      <th></th>\n",
              "      <th>NO</th>\n",
              "      <th>NAMA RUMAH</th>\n",
              "      <th>HARGA</th>\n",
              "      <th>LB</th>\n",
              "      <th>LT</th>\n",
              "      <th>KT</th>\n",
              "      <th>KM</th>\n",
              "      <th>GRS</th>\n",
              "      <th>Daerah</th>\n",
              "      <th>Range</th>\n",
              "    </tr>\n",
              "  </thead>\n",
              "  <tbody>\n",
              "    <tr>\n",
              "      <th>0</th>\n",
              "      <td>1</td>\n",
              "      <td>Rumah Murah Hook Tebet Timur, Tebet, Jakarta S...</td>\n",
              "      <td>3800000000</td>\n",
              "      <td>220</td>\n",
              "      <td>220</td>\n",
              "      <td>3</td>\n",
              "      <td>3</td>\n",
              "      <td>0</td>\n",
              "      <td>Tebet Timur</td>\n",
              "      <td>100jt-16m</td>\n",
              "    </tr>\n",
              "    <tr>\n",
              "      <th>1</th>\n",
              "      <td>2</td>\n",
              "      <td>Rumah Modern di Tebet dekat Stasiun, Tebet, Ja...</td>\n",
              "      <td>4600000000</td>\n",
              "      <td>180</td>\n",
              "      <td>137</td>\n",
              "      <td>4</td>\n",
              "      <td>3</td>\n",
              "      <td>2</td>\n",
              "      <td>Tebet</td>\n",
              "      <td>100jt-16m</td>\n",
              "    </tr>\n",
              "    <tr>\n",
              "      <th>2</th>\n",
              "      <td>3</td>\n",
              "      <td>Rumah Mewah 2 Lantai Hanya 3 Menit Ke Tebet, T...</td>\n",
              "      <td>3000000000</td>\n",
              "      <td>267</td>\n",
              "      <td>250</td>\n",
              "      <td>4</td>\n",
              "      <td>4</td>\n",
              "      <td>4</td>\n",
              "      <td>Tebet</td>\n",
              "      <td>100jt-16m</td>\n",
              "    </tr>\n",
              "    <tr>\n",
              "      <th>3</th>\n",
              "      <td>4</td>\n",
              "      <td>Rumah Baru Tebet, Tebet, Jakarta Selatan</td>\n",
              "      <td>430000000</td>\n",
              "      <td>40</td>\n",
              "      <td>25</td>\n",
              "      <td>2</td>\n",
              "      <td>2</td>\n",
              "      <td>0</td>\n",
              "      <td>Tebet</td>\n",
              "      <td>100jt-16m</td>\n",
              "    </tr>\n",
              "    <tr>\n",
              "      <th>4</th>\n",
              "      <td>5</td>\n",
              "      <td>Rumah Bagus Tebet komp Gudang Peluru lt 350m, ...</td>\n",
              "      <td>9000000000</td>\n",
              "      <td>400</td>\n",
              "      <td>355</td>\n",
              "      <td>6</td>\n",
              "      <td>5</td>\n",
              "      <td>3</td>\n",
              "      <td>Tebet</td>\n",
              "      <td>100jt-16m</td>\n",
              "    </tr>\n",
              "    <tr>\n",
              "      <th>...</th>\n",
              "      <td>...</td>\n",
              "      <td>...</td>\n",
              "      <td>...</td>\n",
              "      <td>...</td>\n",
              "      <td>...</td>\n",
              "      <td>...</td>\n",
              "      <td>...</td>\n",
              "      <td>...</td>\n",
              "      <td>...</td>\n",
              "      <td>...</td>\n",
              "    </tr>\n",
              "    <tr>\n",
              "      <th>1005</th>\n",
              "      <td>1006</td>\n",
              "      <td>Rumah Strategis Akses Jalan 2mobil Di Menteng ...</td>\n",
              "      <td>9000000000</td>\n",
              "      <td>450</td>\n",
              "      <td>550</td>\n",
              "      <td>10</td>\n",
              "      <td>10</td>\n",
              "      <td>1</td>\n",
              "      <td>Menteng Dalam</td>\n",
              "      <td>100jt-16m</td>\n",
              "    </tr>\n",
              "    <tr>\n",
              "      <th>1006</th>\n",
              "      <td>1007</td>\n",
              "      <td>Tebet Rumah Siap Huni Jln 2 Mbl Nyaman</td>\n",
              "      <td>4000000000</td>\n",
              "      <td>160</td>\n",
              "      <td>140</td>\n",
              "      <td>4</td>\n",
              "      <td>3</td>\n",
              "      <td>1</td>\n",
              "      <td>Tebet</td>\n",
              "      <td>100jt-16m</td>\n",
              "    </tr>\n",
              "    <tr>\n",
              "      <th>1007</th>\n",
              "      <td>1008</td>\n",
              "      <td>Di Kebun Baru Rumah Terawat, Area Strategis</td>\n",
              "      <td>4000000000</td>\n",
              "      <td>139</td>\n",
              "      <td>230</td>\n",
              "      <td>4</td>\n",
              "      <td>4</td>\n",
              "      <td>1</td>\n",
              "      <td>Kebon baru</td>\n",
              "      <td>100jt-16m</td>\n",
              "    </tr>\n",
              "    <tr>\n",
              "      <th>1008</th>\n",
              "      <td>1009</td>\n",
              "      <td>Dijual Cepat Rumah Komp Depkeu Dr Soepomo Tebe...</td>\n",
              "      <td>19000000000</td>\n",
              "      <td>360</td>\n",
              "      <td>606</td>\n",
              "      <td>7</td>\n",
              "      <td>4</td>\n",
              "      <td>1</td>\n",
              "      <td>Tebet</td>\n",
              "      <td>16,1m-32m</td>\n",
              "    </tr>\n",
              "    <tr>\n",
              "      <th>1009</th>\n",
              "      <td>1010</td>\n",
              "      <td>Dijual Rumah Kokoh Di Gudang Peluru</td>\n",
              "      <td>10500000000</td>\n",
              "      <td>420</td>\n",
              "      <td>430</td>\n",
              "      <td>7</td>\n",
              "      <td>4</td>\n",
              "      <td>1</td>\n",
              "      <td>Tebet</td>\n",
              "      <td>100jt-16m</td>\n",
              "    </tr>\n",
              "  </tbody>\n",
              "</table>\n",
              "<p>1010 rows × 10 columns</p>\n",
              "</div>\n",
              "      <button class=\"colab-df-convert\" onclick=\"convertToInteractive('df-0ae6098c-5338-4ce5-bb84-bd3995ece4d9')\"\n",
              "              title=\"Convert this dataframe to an interactive table.\"\n",
              "              style=\"display:none;\">\n",
              "        \n",
              "  <svg xmlns=\"http://www.w3.org/2000/svg\" height=\"24px\"viewBox=\"0 0 24 24\"\n",
              "       width=\"24px\">\n",
              "    <path d=\"M0 0h24v24H0V0z\" fill=\"none\"/>\n",
              "    <path d=\"M18.56 5.44l.94 2.06.94-2.06 2.06-.94-2.06-.94-.94-2.06-.94 2.06-2.06.94zm-11 1L8.5 8.5l.94-2.06 2.06-.94-2.06-.94L8.5 2.5l-.94 2.06-2.06.94zm10 10l.94 2.06.94-2.06 2.06-.94-2.06-.94-.94-2.06-.94 2.06-2.06.94z\"/><path d=\"M17.41 7.96l-1.37-1.37c-.4-.4-.92-.59-1.43-.59-.52 0-1.04.2-1.43.59L10.3 9.45l-7.72 7.72c-.78.78-.78 2.05 0 2.83L4 21.41c.39.39.9.59 1.41.59.51 0 1.02-.2 1.41-.59l7.78-7.78 2.81-2.81c.8-.78.8-2.07 0-2.86zM5.41 20L4 18.59l7.72-7.72 1.47 1.35L5.41 20z\"/>\n",
              "  </svg>\n",
              "      </button>\n",
              "      \n",
              "  <style>\n",
              "    .colab-df-container {\n",
              "      display:flex;\n",
              "      flex-wrap:wrap;\n",
              "      gap: 12px;\n",
              "    }\n",
              "\n",
              "    .colab-df-convert {\n",
              "      background-color: #E8F0FE;\n",
              "      border: none;\n",
              "      border-radius: 50%;\n",
              "      cursor: pointer;\n",
              "      display: none;\n",
              "      fill: #1967D2;\n",
              "      height: 32px;\n",
              "      padding: 0 0 0 0;\n",
              "      width: 32px;\n",
              "    }\n",
              "\n",
              "    .colab-df-convert:hover {\n",
              "      background-color: #E2EBFA;\n",
              "      box-shadow: 0px 1px 2px rgba(60, 64, 67, 0.3), 0px 1px 3px 1px rgba(60, 64, 67, 0.15);\n",
              "      fill: #174EA6;\n",
              "    }\n",
              "\n",
              "    [theme=dark] .colab-df-convert {\n",
              "      background-color: #3B4455;\n",
              "      fill: #D2E3FC;\n",
              "    }\n",
              "\n",
              "    [theme=dark] .colab-df-convert:hover {\n",
              "      background-color: #434B5C;\n",
              "      box-shadow: 0px 1px 3px 1px rgba(0, 0, 0, 0.15);\n",
              "      filter: drop-shadow(0px 1px 2px rgba(0, 0, 0, 0.3));\n",
              "      fill: #FFFFFF;\n",
              "    }\n",
              "  </style>\n",
              "\n",
              "      <script>\n",
              "        const buttonEl =\n",
              "          document.querySelector('#df-0ae6098c-5338-4ce5-bb84-bd3995ece4d9 button.colab-df-convert');\n",
              "        buttonEl.style.display =\n",
              "          google.colab.kernel.accessAllowed ? 'block' : 'none';\n",
              "\n",
              "        async function convertToInteractive(key) {\n",
              "          const element = document.querySelector('#df-0ae6098c-5338-4ce5-bb84-bd3995ece4d9');\n",
              "          const dataTable =\n",
              "            await google.colab.kernel.invokeFunction('convertToInteractive',\n",
              "                                                     [key], {});\n",
              "          if (!dataTable) return;\n",
              "\n",
              "          const docLinkHtml = 'Like what you see? Visit the ' +\n",
              "            '<a target=\"_blank\" href=https://colab.research.google.com/notebooks/data_table.ipynb>data table notebook</a>'\n",
              "            + ' to learn more about interactive tables.';\n",
              "          element.innerHTML = '';\n",
              "          dataTable['output_type'] = 'display_data';\n",
              "          await google.colab.output.renderOutput(dataTable, element);\n",
              "          const docLink = document.createElement('div');\n",
              "          docLink.innerHTML = docLinkHtml;\n",
              "          element.appendChild(docLink);\n",
              "        }\n",
              "      </script>\n",
              "    </div>\n",
              "  </div>\n",
              "  "
            ]
          },
          "metadata": {},
          "execution_count": 3
        }
      ]
    },
    {
      "cell_type": "code",
      "source": [
        "df['JT'] = df['HARGA']//100000000"
      ],
      "metadata": {
        "id": "yrm04YcQrZ0U"
      },
      "execution_count": null,
      "outputs": []
    },
    {
      "cell_type": "code",
      "source": [
        "fitur = df.drop(['NO','NAMA RUMAH','HARGA','LB','KT','KM','GRS','Daerah','Range'], axis=1)"
      ],
      "metadata": {
        "id": "dZtrN5ZPrbL2"
      },
      "execution_count": null,
      "outputs": []
    },
    {
      "cell_type": "code",
      "source": [
        "fitur"
      ],
      "metadata": {
        "colab": {
          "base_uri": "https://localhost:8080/",
          "height": 423
        },
        "id": "U3K-HvoylMjr",
        "outputId": "9645493d-6b88-46c8-dedc-76166020df5e"
      },
      "execution_count": null,
      "outputs": [
        {
          "output_type": "execute_result",
          "data": {
            "text/plain": [
              "       LT   JT\n",
              "0     220   38\n",
              "1     137   46\n",
              "2     250   30\n",
              "3      25    4\n",
              "4     355   90\n",
              "...   ...  ...\n",
              "1005  550   90\n",
              "1006  140   40\n",
              "1007  230   40\n",
              "1008  606  190\n",
              "1009  430  105\n",
              "\n",
              "[1010 rows x 2 columns]"
            ],
            "text/html": [
              "\n",
              "  <div id=\"df-af8b6bbf-a1ae-453d-8c29-330aaa679983\">\n",
              "    <div class=\"colab-df-container\">\n",
              "      <div>\n",
              "<style scoped>\n",
              "    .dataframe tbody tr th:only-of-type {\n",
              "        vertical-align: middle;\n",
              "    }\n",
              "\n",
              "    .dataframe tbody tr th {\n",
              "        vertical-align: top;\n",
              "    }\n",
              "\n",
              "    .dataframe thead th {\n",
              "        text-align: right;\n",
              "    }\n",
              "</style>\n",
              "<table border=\"1\" class=\"dataframe\">\n",
              "  <thead>\n",
              "    <tr style=\"text-align: right;\">\n",
              "      <th></th>\n",
              "      <th>LT</th>\n",
              "      <th>JT</th>\n",
              "    </tr>\n",
              "  </thead>\n",
              "  <tbody>\n",
              "    <tr>\n",
              "      <th>0</th>\n",
              "      <td>220</td>\n",
              "      <td>38</td>\n",
              "    </tr>\n",
              "    <tr>\n",
              "      <th>1</th>\n",
              "      <td>137</td>\n",
              "      <td>46</td>\n",
              "    </tr>\n",
              "    <tr>\n",
              "      <th>2</th>\n",
              "      <td>250</td>\n",
              "      <td>30</td>\n",
              "    </tr>\n",
              "    <tr>\n",
              "      <th>3</th>\n",
              "      <td>25</td>\n",
              "      <td>4</td>\n",
              "    </tr>\n",
              "    <tr>\n",
              "      <th>4</th>\n",
              "      <td>355</td>\n",
              "      <td>90</td>\n",
              "    </tr>\n",
              "    <tr>\n",
              "      <th>...</th>\n",
              "      <td>...</td>\n",
              "      <td>...</td>\n",
              "    </tr>\n",
              "    <tr>\n",
              "      <th>1005</th>\n",
              "      <td>550</td>\n",
              "      <td>90</td>\n",
              "    </tr>\n",
              "    <tr>\n",
              "      <th>1006</th>\n",
              "      <td>140</td>\n",
              "      <td>40</td>\n",
              "    </tr>\n",
              "    <tr>\n",
              "      <th>1007</th>\n",
              "      <td>230</td>\n",
              "      <td>40</td>\n",
              "    </tr>\n",
              "    <tr>\n",
              "      <th>1008</th>\n",
              "      <td>606</td>\n",
              "      <td>190</td>\n",
              "    </tr>\n",
              "    <tr>\n",
              "      <th>1009</th>\n",
              "      <td>430</td>\n",
              "      <td>105</td>\n",
              "    </tr>\n",
              "  </tbody>\n",
              "</table>\n",
              "<p>1010 rows × 2 columns</p>\n",
              "</div>\n",
              "      <button class=\"colab-df-convert\" onclick=\"convertToInteractive('df-af8b6bbf-a1ae-453d-8c29-330aaa679983')\"\n",
              "              title=\"Convert this dataframe to an interactive table.\"\n",
              "              style=\"display:none;\">\n",
              "        \n",
              "  <svg xmlns=\"http://www.w3.org/2000/svg\" height=\"24px\"viewBox=\"0 0 24 24\"\n",
              "       width=\"24px\">\n",
              "    <path d=\"M0 0h24v24H0V0z\" fill=\"none\"/>\n",
              "    <path d=\"M18.56 5.44l.94 2.06.94-2.06 2.06-.94-2.06-.94-.94-2.06-.94 2.06-2.06.94zm-11 1L8.5 8.5l.94-2.06 2.06-.94-2.06-.94L8.5 2.5l-.94 2.06-2.06.94zm10 10l.94 2.06.94-2.06 2.06-.94-2.06-.94-.94-2.06-.94 2.06-2.06.94z\"/><path d=\"M17.41 7.96l-1.37-1.37c-.4-.4-.92-.59-1.43-.59-.52 0-1.04.2-1.43.59L10.3 9.45l-7.72 7.72c-.78.78-.78 2.05 0 2.83L4 21.41c.39.39.9.59 1.41.59.51 0 1.02-.2 1.41-.59l7.78-7.78 2.81-2.81c.8-.78.8-2.07 0-2.86zM5.41 20L4 18.59l7.72-7.72 1.47 1.35L5.41 20z\"/>\n",
              "  </svg>\n",
              "      </button>\n",
              "      \n",
              "  <style>\n",
              "    .colab-df-container {\n",
              "      display:flex;\n",
              "      flex-wrap:wrap;\n",
              "      gap: 12px;\n",
              "    }\n",
              "\n",
              "    .colab-df-convert {\n",
              "      background-color: #E8F0FE;\n",
              "      border: none;\n",
              "      border-radius: 50%;\n",
              "      cursor: pointer;\n",
              "      display: none;\n",
              "      fill: #1967D2;\n",
              "      height: 32px;\n",
              "      padding: 0 0 0 0;\n",
              "      width: 32px;\n",
              "    }\n",
              "\n",
              "    .colab-df-convert:hover {\n",
              "      background-color: #E2EBFA;\n",
              "      box-shadow: 0px 1px 2px rgba(60, 64, 67, 0.3), 0px 1px 3px 1px rgba(60, 64, 67, 0.15);\n",
              "      fill: #174EA6;\n",
              "    }\n",
              "\n",
              "    [theme=dark] .colab-df-convert {\n",
              "      background-color: #3B4455;\n",
              "      fill: #D2E3FC;\n",
              "    }\n",
              "\n",
              "    [theme=dark] .colab-df-convert:hover {\n",
              "      background-color: #434B5C;\n",
              "      box-shadow: 0px 1px 3px 1px rgba(0, 0, 0, 0.15);\n",
              "      filter: drop-shadow(0px 1px 2px rgba(0, 0, 0, 0.3));\n",
              "      fill: #FFFFFF;\n",
              "    }\n",
              "  </style>\n",
              "\n",
              "      <script>\n",
              "        const buttonEl =\n",
              "          document.querySelector('#df-af8b6bbf-a1ae-453d-8c29-330aaa679983 button.colab-df-convert');\n",
              "        buttonEl.style.display =\n",
              "          google.colab.kernel.accessAllowed ? 'block' : 'none';\n",
              "\n",
              "        async function convertToInteractive(key) {\n",
              "          const element = document.querySelector('#df-af8b6bbf-a1ae-453d-8c29-330aaa679983');\n",
              "          const dataTable =\n",
              "            await google.colab.kernel.invokeFunction('convertToInteractive',\n",
              "                                                     [key], {});\n",
              "          if (!dataTable) return;\n",
              "\n",
              "          const docLinkHtml = 'Like what you see? Visit the ' +\n",
              "            '<a target=\"_blank\" href=https://colab.research.google.com/notebooks/data_table.ipynb>data table notebook</a>'\n",
              "            + ' to learn more about interactive tables.';\n",
              "          element.innerHTML = '';\n",
              "          dataTable['output_type'] = 'display_data';\n",
              "          await google.colab.output.renderOutput(dataTable, element);\n",
              "          const docLink = document.createElement('div');\n",
              "          docLink.innerHTML = docLinkHtml;\n",
              "          element.appendChild(docLink);\n",
              "        }\n",
              "      </script>\n",
              "    </div>\n",
              "  </div>\n",
              "  "
            ]
          },
          "metadata": {},
          "execution_count": 6
        }
      ]
    },
    {
      "cell_type": "code",
      "source": [
        "from sklearn.metrics import silhouette_score\n",
        "clusters_kmeans = KMeans(n_clusters=3, random_state=0).fit(fitur)\n",
        "OMP_NUM_THREADS=1"
      ],
      "metadata": {
        "id": "j_itg12_icWO"
      },
      "execution_count": null,
      "outputs": []
    },
    {
      "cell_type": "code",
      "source": [
        "clusters_kmeans.fit(fitur)"
      ],
      "metadata": {
        "colab": {
          "base_uri": "https://localhost:8080/"
        },
        "id": "6MvwFccXWZCe",
        "outputId": "55d6ef39-d236-4f4a-8504-2d3eaeebef63"
      },
      "execution_count": null,
      "outputs": [
        {
          "output_type": "execute_result",
          "data": {
            "text/plain": [
              "KMeans(n_clusters=3, random_state=0)"
            ]
          },
          "metadata": {},
          "execution_count": 72
        }
      ]
    },
    {
      "cell_type": "code",
      "source": [
        "labels = clusters_kmeans.predict(fitur)"
      ],
      "metadata": {
        "id": "0IhNArsQWnju"
      },
      "execution_count": null,
      "outputs": []
    },
    {
      "cell_type": "code",
      "source": [
        "score = silhouette_score(fitur, labels)"
      ],
      "metadata": {
        "id": "f2pymEaNYQUL"
      },
      "execution_count": null,
      "outputs": []
    },
    {
      "cell_type": "code",
      "source": [
        "print(score)"
      ],
      "metadata": {
        "colab": {
          "base_uri": "https://localhost:8080/"
        },
        "id": "2T0PwvE_YeJL",
        "outputId": "f4bb80f9-ae04-4205-f14d-4370c20a82f3"
      },
      "execution_count": null,
      "outputs": [
        {
          "output_type": "stream",
          "name": "stdout",
          "text": [
            "0.6083209515644834\n"
          ]
        }
      ]
    },
    {
      "cell_type": "code",
      "source": [
        "cluster_label = clusters_kmeans.labels_\n",
        "cluster_label"
      ],
      "metadata": {
        "colab": {
          "base_uri": "https://localhost:8080/"
        },
        "id": "yU0c4AwXicY7",
        "outputId": "f30158d6-49df-4c14-b6d9-ff96cea1297d"
      },
      "execution_count": null,
      "outputs": [
        {
          "output_type": "execute_result",
          "data": {
            "text/plain": [
              "array([0, 0, 2, ..., 0, 1, 2], dtype=int32)"
            ]
          },
          "metadata": {},
          "execution_count": 8
        }
      ]
    },
    {
      "cell_type": "code",
      "source": [
        "from sklearn.metrics import silhouette_samples, silhouette_score\n",
        "\n",
        "sample_silhouette_values = silhouette_samples(fitur,cluster_label)\n",
        "sample_silhouette_values"
      ],
      "metadata": {
        "colab": {
          "base_uri": "https://localhost:8080/"
        },
        "id": "FpzVNiP0icbU",
        "outputId": "0a349b1a-3321-4e6c-e180-8a0d537316cd"
      },
      "execution_count": null,
      "outputs": [
        {
          "output_type": "execute_result",
          "data": {
            "text/plain": [
              "array([0.29614564, 0.80298616, 0.04693719, ..., 0.16672709, 0.51030282,\n",
              "       0.54127458])"
            ]
          },
          "metadata": {},
          "execution_count": 9
        }
      ]
    },
    {
      "cell_type": "code",
      "source": [
        "new_data = df.copy()\n",
        "\n",
        "clstr = pd.DataFrame(cluster_label, \n",
        "                    columns=['cluster_label'])\n",
        "new_data['cluster_label'] = clstr"
      ],
      "metadata": {
        "id": "GKvkgXHMiceg"
      },
      "execution_count": null,
      "outputs": []
    },
    {
      "cell_type": "code",
      "source": [
        "new_data.head()"
      ],
      "metadata": {
        "colab": {
          "base_uri": "https://localhost:8080/",
          "height": 206
        },
        "id": "jvHDyaKvichj",
        "outputId": "92c2eea6-e320-4f00-db49-8bd574e8117c"
      },
      "execution_count": null,
      "outputs": [
        {
          "output_type": "execute_result",
          "data": {
            "text/plain": [
              "   NO                                         NAMA RUMAH       HARGA   LB  \\\n",
              "0   1  Rumah Murah Hook Tebet Timur, Tebet, Jakarta S...  3800000000  220   \n",
              "1   2  Rumah Modern di Tebet dekat Stasiun, Tebet, Ja...  4600000000  180   \n",
              "2   3  Rumah Mewah 2 Lantai Hanya 3 Menit Ke Tebet, T...  3000000000  267   \n",
              "3   4           Rumah Baru Tebet, Tebet, Jakarta Selatan   430000000   40   \n",
              "4   5  Rumah Bagus Tebet komp Gudang Peluru lt 350m, ...  9000000000  400   \n",
              "\n",
              "    LT  KT  KM  GRS       Daerah      Range  JT  cluster_label  \n",
              "0  220   3   3    0  Tebet Timur  100jt-16m  38              0  \n",
              "1  137   4   3    2       Tebet   100jt-16m  46              0  \n",
              "2  250   4   4    4       Tebet   100jt-16m  30              2  \n",
              "3   25   2   2    0       Tebet   100jt-16m   4              0  \n",
              "4  355   6   5    3        Tebet  100jt-16m  90              2  "
            ],
            "text/html": [
              "\n",
              "  <div id=\"df-8c9db134-5570-4baf-8a15-b3feaf9958c3\">\n",
              "    <div class=\"colab-df-container\">\n",
              "      <div>\n",
              "<style scoped>\n",
              "    .dataframe tbody tr th:only-of-type {\n",
              "        vertical-align: middle;\n",
              "    }\n",
              "\n",
              "    .dataframe tbody tr th {\n",
              "        vertical-align: top;\n",
              "    }\n",
              "\n",
              "    .dataframe thead th {\n",
              "        text-align: right;\n",
              "    }\n",
              "</style>\n",
              "<table border=\"1\" class=\"dataframe\">\n",
              "  <thead>\n",
              "    <tr style=\"text-align: right;\">\n",
              "      <th></th>\n",
              "      <th>NO</th>\n",
              "      <th>NAMA RUMAH</th>\n",
              "      <th>HARGA</th>\n",
              "      <th>LB</th>\n",
              "      <th>LT</th>\n",
              "      <th>KT</th>\n",
              "      <th>KM</th>\n",
              "      <th>GRS</th>\n",
              "      <th>Daerah</th>\n",
              "      <th>Range</th>\n",
              "      <th>JT</th>\n",
              "      <th>cluster_label</th>\n",
              "    </tr>\n",
              "  </thead>\n",
              "  <tbody>\n",
              "    <tr>\n",
              "      <th>0</th>\n",
              "      <td>1</td>\n",
              "      <td>Rumah Murah Hook Tebet Timur, Tebet, Jakarta S...</td>\n",
              "      <td>3800000000</td>\n",
              "      <td>220</td>\n",
              "      <td>220</td>\n",
              "      <td>3</td>\n",
              "      <td>3</td>\n",
              "      <td>0</td>\n",
              "      <td>Tebet Timur</td>\n",
              "      <td>100jt-16m</td>\n",
              "      <td>38</td>\n",
              "      <td>0</td>\n",
              "    </tr>\n",
              "    <tr>\n",
              "      <th>1</th>\n",
              "      <td>2</td>\n",
              "      <td>Rumah Modern di Tebet dekat Stasiun, Tebet, Ja...</td>\n",
              "      <td>4600000000</td>\n",
              "      <td>180</td>\n",
              "      <td>137</td>\n",
              "      <td>4</td>\n",
              "      <td>3</td>\n",
              "      <td>2</td>\n",
              "      <td>Tebet</td>\n",
              "      <td>100jt-16m</td>\n",
              "      <td>46</td>\n",
              "      <td>0</td>\n",
              "    </tr>\n",
              "    <tr>\n",
              "      <th>2</th>\n",
              "      <td>3</td>\n",
              "      <td>Rumah Mewah 2 Lantai Hanya 3 Menit Ke Tebet, T...</td>\n",
              "      <td>3000000000</td>\n",
              "      <td>267</td>\n",
              "      <td>250</td>\n",
              "      <td>4</td>\n",
              "      <td>4</td>\n",
              "      <td>4</td>\n",
              "      <td>Tebet</td>\n",
              "      <td>100jt-16m</td>\n",
              "      <td>30</td>\n",
              "      <td>2</td>\n",
              "    </tr>\n",
              "    <tr>\n",
              "      <th>3</th>\n",
              "      <td>4</td>\n",
              "      <td>Rumah Baru Tebet, Tebet, Jakarta Selatan</td>\n",
              "      <td>430000000</td>\n",
              "      <td>40</td>\n",
              "      <td>25</td>\n",
              "      <td>2</td>\n",
              "      <td>2</td>\n",
              "      <td>0</td>\n",
              "      <td>Tebet</td>\n",
              "      <td>100jt-16m</td>\n",
              "      <td>4</td>\n",
              "      <td>0</td>\n",
              "    </tr>\n",
              "    <tr>\n",
              "      <th>4</th>\n",
              "      <td>5</td>\n",
              "      <td>Rumah Bagus Tebet komp Gudang Peluru lt 350m, ...</td>\n",
              "      <td>9000000000</td>\n",
              "      <td>400</td>\n",
              "      <td>355</td>\n",
              "      <td>6</td>\n",
              "      <td>5</td>\n",
              "      <td>3</td>\n",
              "      <td>Tebet</td>\n",
              "      <td>100jt-16m</td>\n",
              "      <td>90</td>\n",
              "      <td>2</td>\n",
              "    </tr>\n",
              "  </tbody>\n",
              "</table>\n",
              "</div>\n",
              "      <button class=\"colab-df-convert\" onclick=\"convertToInteractive('df-8c9db134-5570-4baf-8a15-b3feaf9958c3')\"\n",
              "              title=\"Convert this dataframe to an interactive table.\"\n",
              "              style=\"display:none;\">\n",
              "        \n",
              "  <svg xmlns=\"http://www.w3.org/2000/svg\" height=\"24px\"viewBox=\"0 0 24 24\"\n",
              "       width=\"24px\">\n",
              "    <path d=\"M0 0h24v24H0V0z\" fill=\"none\"/>\n",
              "    <path d=\"M18.56 5.44l.94 2.06.94-2.06 2.06-.94-2.06-.94-.94-2.06-.94 2.06-2.06.94zm-11 1L8.5 8.5l.94-2.06 2.06-.94-2.06-.94L8.5 2.5l-.94 2.06-2.06.94zm10 10l.94 2.06.94-2.06 2.06-.94-2.06-.94-.94-2.06-.94 2.06-2.06.94z\"/><path d=\"M17.41 7.96l-1.37-1.37c-.4-.4-.92-.59-1.43-.59-.52 0-1.04.2-1.43.59L10.3 9.45l-7.72 7.72c-.78.78-.78 2.05 0 2.83L4 21.41c.39.39.9.59 1.41.59.51 0 1.02-.2 1.41-.59l7.78-7.78 2.81-2.81c.8-.78.8-2.07 0-2.86zM5.41 20L4 18.59l7.72-7.72 1.47 1.35L5.41 20z\"/>\n",
              "  </svg>\n",
              "      </button>\n",
              "      \n",
              "  <style>\n",
              "    .colab-df-container {\n",
              "      display:flex;\n",
              "      flex-wrap:wrap;\n",
              "      gap: 12px;\n",
              "    }\n",
              "\n",
              "    .colab-df-convert {\n",
              "      background-color: #E8F0FE;\n",
              "      border: none;\n",
              "      border-radius: 50%;\n",
              "      cursor: pointer;\n",
              "      display: none;\n",
              "      fill: #1967D2;\n",
              "      height: 32px;\n",
              "      padding: 0 0 0 0;\n",
              "      width: 32px;\n",
              "    }\n",
              "\n",
              "    .colab-df-convert:hover {\n",
              "      background-color: #E2EBFA;\n",
              "      box-shadow: 0px 1px 2px rgba(60, 64, 67, 0.3), 0px 1px 3px 1px rgba(60, 64, 67, 0.15);\n",
              "      fill: #174EA6;\n",
              "    }\n",
              "\n",
              "    [theme=dark] .colab-df-convert {\n",
              "      background-color: #3B4455;\n",
              "      fill: #D2E3FC;\n",
              "    }\n",
              "\n",
              "    [theme=dark] .colab-df-convert:hover {\n",
              "      background-color: #434B5C;\n",
              "      box-shadow: 0px 1px 3px 1px rgba(0, 0, 0, 0.15);\n",
              "      filter: drop-shadow(0px 1px 2px rgba(0, 0, 0, 0.3));\n",
              "      fill: #FFFFFF;\n",
              "    }\n",
              "  </style>\n",
              "\n",
              "      <script>\n",
              "        const buttonEl =\n",
              "          document.querySelector('#df-8c9db134-5570-4baf-8a15-b3feaf9958c3 button.colab-df-convert');\n",
              "        buttonEl.style.display =\n",
              "          google.colab.kernel.accessAllowed ? 'block' : 'none';\n",
              "\n",
              "        async function convertToInteractive(key) {\n",
              "          const element = document.querySelector('#df-8c9db134-5570-4baf-8a15-b3feaf9958c3');\n",
              "          const dataTable =\n",
              "            await google.colab.kernel.invokeFunction('convertToInteractive',\n",
              "                                                     [key], {});\n",
              "          if (!dataTable) return;\n",
              "\n",
              "          const docLinkHtml = 'Like what you see? Visit the ' +\n",
              "            '<a target=\"_blank\" href=https://colab.research.google.com/notebooks/data_table.ipynb>data table notebook</a>'\n",
              "            + ' to learn more about interactive tables.';\n",
              "          element.innerHTML = '';\n",
              "          dataTable['output_type'] = 'display_data';\n",
              "          await google.colab.output.renderOutput(dataTable, element);\n",
              "          const docLink = document.createElement('div');\n",
              "          docLink.innerHTML = docLinkHtml;\n",
              "          element.appendChild(docLink);\n",
              "        }\n",
              "      </script>\n",
              "    </div>\n",
              "  </div>\n",
              "  "
            ]
          },
          "metadata": {},
          "execution_count": 11
        }
      ]
    },
    {
      "cell_type": "code",
      "source": [
        "facet = sns.lmplot(data=new_data, x='LT', y='JT', hue='cluster_label',\n",
        "                  fit_reg=False, legend=True, legend_out=True)"
      ],
      "metadata": {
        "colab": {
          "base_uri": "https://localhost:8080/",
          "height": 424
        },
        "id": "fdRki-cnlFxK",
        "outputId": "6d678189-a69d-400a-a259-59e2931a4037"
      },
      "execution_count": null,
      "outputs": [
        {
          "output_type": "stream",
          "name": "stderr",
          "text": [
            "/usr/local/lib/python3.8/dist-packages/seaborn/regression.py:592: UserWarning: legend_out is deprecated from the `lmplot` function signature. Please update your code to pass it using `facet_kws`.\n",
            "  warnings.warn(msg, UserWarning)\n"
          ]
        },
        {
          "output_type": "display_data",
          "data": {
            "text/plain": [
              "<Figure size 431.375x360 with 1 Axes>"
            ],
            "image/png": "[encoded data removed]"
          },
          "metadata": {
            "needs_background": "light"
          }
        }
      ]
    },
    {
      "cell_type": "code",
      "source": [
        "new_data['cluster_label'].unique()"
      ],
      "metadata": {
        "id": "FQ4WJOGllFmg",
        "colab": {
          "base_uri": "https://localhost:8080/"
        },
        "outputId": "d3b7a080-88c6-41fc-c7fb-65dcd832e06e"
      },
      "execution_count": null,
      "outputs": [
        {
          "output_type": "execute_result",
          "data": {
            "text/plain": [
              "array([0, 2, 1], dtype=int32)"
            ]
          },
          "metadata": {},
          "execution_count": 13
        }
      ]
    },
    {
      "cell_type": "code",
      "source": [
        "plt.subplots(figsize=(8,3), dpi=100)\n",
        "ax = sns.countplot(data=df, y='Range')\n",
        "ax.set_title(\"The number of instances Cluster\", fontsize=16)\n",
        "ax.set_xlabel('Range', fontsize=16)\n",
        "ax.set_ylabel('Count',fontsize=16,rotation=90)\n",
        "ax.grid(False)"
      ],
      "metadata": {
        "colab": {
          "base_uri": "https://localhost:8080/",
          "height": 337
        },
        "id": "9iCldzO2OFZU",
        "outputId": "a4e9f626-7b3e-4250-ce87-ee9cfb0df39e"
      },
      "execution_count": null,
      "outputs": [
        {
          "output_type": "display_data",
          "data": {
            "text/plain": [
              "<Figure size 800x300 with 1 Axes>"
            ],
            "image/png": "[encoded data removed]"
          },
          "metadata": {
            "needs_background": "light"
          }
        }
      ]
    },
    {
      "cell_type": "code",
      "source": [
        "df_group = df.groupby(['Daerah','Range']).count()\n",
        "df_group.plot(kind='bar')\n",
        "plt.show()"
      ],
      "metadata": {
        "colab": {
          "base_uri": "https://localhost:8080/",
          "height": 421
        },
        "id": "0oNqHblT-UeT",
        "outputId": "d71ce3e6-24a9-47aa-8c1e-49f164f84db8"
      },
      "execution_count": null,
      "outputs": [
        {
          "output_type": "display_data",
          "data": {
            "text/plain": [
              "<Figure size 432x288 with 1 Axes>"
            ],
            "image/png": "[encoded data removed]"
          },
          "metadata": {
            "needs_background": "light"
          }
        }
      ]
    },
    {
      "cell_type": "code",
      "source": [
        "Group1 = new_data[new_data['cluster_label']==0]\n",
        "plt.subplots(figsize=(4,3), dpi=100)\n",
        "ax = sns.countplot(data=Group1, x='Range')\n",
        "ax.set_title(\"The number of instances Cluster 1\", fontsize=16)\n",
        "ax.set_xlabel('Range', fontsize=16)\n",
        "ax.set_ylabel('Count',fontsize=16,rotation=90)\n",
        "ax.grid(False)"
      ],
      "metadata": {
        "colab": {
          "base_uri": "https://localhost:8080/",
          "height": 337
        },
        "id": "puxPC_BpCnP4",
        "outputId": "ff716cd2-0c6a-4c48-b324-a1165de7a148"
      },
      "execution_count": null,
      "outputs": [
        {
          "output_type": "display_data",
          "data": {
            "text/plain": [
              "<Figure size 400x300 with 1 Axes>"
            ],
            "image/png": "[encoded data removed]"
          },
          "metadata": {
            "needs_background": "light"
          }
        }
      ]
    },
    {
      "cell_type": "code",
      "source": [
        "Group1 = new_data[new_data['cluster_label']==0]\n",
        "plt.subplots(figsize=(16,14), dpi=100)\n",
        "ax = sns.countplot(data=Group1, x='Daerah')\n",
        "ax.set_title(\"The number of instances Cluster 1\", fontsize=16)\n",
        "ax.set_xlabel('Daerah', fontsize=16)\n",
        "ax.set_ylabel('Count',fontsize=16,rotation=90)\n",
        "ax.grid(False)"
      ],
      "metadata": {
        "colab": {
          "base_uri": "https://localhost:8080/",
          "height": 986
        },
        "id": "QvyNyOe1QK8V",
        "outputId": "462b5465-6d58-486f-f574-d7d264bb31ac"
      },
      "execution_count": null,
      "outputs": [
        {
          "output_type": "display_data",
          "data": {
            "text/plain": [
              "<Figure size 1600x1400 with 1 Axes>"
            ],
            "image/png": "[encoded data removed]"
          },
          "metadata": {
            "needs_background": "light"
          }
        }
      ]
    },
    {
      "cell_type": "code",
      "source": [
        "Group1 = new_data[new_data['cluster_label']==1]\n",
        "plt.subplots(figsize=(6,3), dpi=100)\n",
        "ax = sns.countplot(data=Group1, x='Range')\n",
        "ax.set_title(\"The number of instances Cluster 2\", fontsize=16)\n",
        "ax.set_xlabel('Range', fontsize=16)\n",
        "ax.set_ylabel('Count',fontsize=16,rotation=90)\n",
        "ax.grid(False)"
      ],
      "metadata": {
        "colab": {
          "base_uri": "https://localhost:8080/",
          "height": 369
        },
        "id": "PnavkxT0DKeq",
        "outputId": "329d9acb-ddae-4d14-d344-a5b7ec9728eb"
      },
      "execution_count": null,
      "outputs": [
        {
          "output_type": "display_data",
          "data": {
            "text/plain": [
              "<Figure size 600x300 with 1 Axes>"
            ],
            "image/png": "[encoded data removed]"
          },
          "metadata": {
            "needs_background": "light"
          }
        }
      ]
    },
    {
      "cell_type": "code",
      "source": [
        "Group1 = new_data[new_data['cluster_label']==1]\n",
        "plt.subplots(figsize=(16,14), dpi=100)\n",
        "ax = sns.countplot(data=Group1, x='Daerah')\n",
        "ax.set_title(\"The number of instances Cluster 2\", fontsize=16)\n",
        "ax.set_xlabel('Daerah', fontsize=16)\n",
        "ax.set_ylabel('Count',fontsize=16,rotation=90)\n",
        "ax.grid(False)"
      ],
      "metadata": {
        "colab": {
          "base_uri": "https://localhost:8080/",
          "height": 993
        },
        "id": "DQo03QXhT0Be",
        "outputId": "41c0795f-a60a-4442-ee8b-e737100df50d"
      },
      "execution_count": null,
      "outputs": [
        {
          "output_type": "display_data",
          "data": {
            "text/plain": [
              "<Figure size 1600x1400 with 1 Axes>"
            ],
            "image/png": "[encoded data removed]"
          },
          "metadata": {
            "needs_background": "light"
          }
        }
      ]
    },
    {
      "cell_type": "code",
      "source": [
        "Group1 = new_data[new_data['cluster_label']==2]\n",
        "plt.subplots(figsize=(6,3), dpi=100)\n",
        "ax = sns.countplot(data=Group1, x='Range')\n",
        "ax.set_title(\"The number of instances Cluster 3\", fontsize=16)\n",
        "ax.set_xlabel('Range', fontsize=16)\n",
        "ax.set_ylabel('Count',fontsize=16,rotation=90)\n",
        "ax.grid(False)"
      ],
      "metadata": {
        "colab": {
          "base_uri": "https://localhost:8080/",
          "height": 337
        },
        "id": "OhirwM4ODWiP",
        "outputId": "332bb007-4dc8-4fa9-b83d-49de212e56c7"
      },
      "execution_count": null,
      "outputs": [
        {
          "output_type": "display_data",
          "data": {
            "text/plain": [
              "<Figure size 600x300 with 1 Axes>"
            ],
            "image/png": "[encoded data removed]"
          },
          "metadata": {
            "needs_background": "light"
          }
        }
      ]
    },
    {
      "cell_type": "code",
      "source": [
        "fitur.min"
      ],
      "metadata": {
        "colab": {
          "base_uri": "https://localhost:8080/"
        },
        "id": "OrUQnTGZnD-8",
        "outputId": "e9679bba-fe84-42b5-8acc-db2a8d354457"
      },
      "execution_count": null,
      "outputs": [
        {
          "output_type": "execute_result",
          "data": {
            "text/plain": [
              "<bound method NDFrame._add_numeric_operations.<locals>.min of        LT   JT\n",
              "0     220   38\n",
              "1     137   46\n",
              "2     250   30\n",
              "3      25    4\n",
              "4     355   90\n",
              "...   ...  ...\n",
              "1005  550   90\n",
              "1006  140   40\n",
              "1007  230   40\n",
              "1008  606  190\n",
              "1009  430  105\n",
              "\n",
              "[1010 rows x 2 columns]>"
            ]
          },
          "metadata": {},
          "execution_count": 24
        }
      ]
    },
    {
      "cell_type": "code",
      "source": [
        "Group1 = new_data[new_data['cluster_label']==2]\n",
        "plt.subplots(figsize=(16,14), dpi=100)\n",
        "ax = sns.countplot(data=Group1, x='Daerah')\n",
        "ax.set_title(\"The number of instances Cluster 3\", fontsize=16)\n",
        "ax.set_xlabel('Daerah', fontsize=16)\n",
        "ax.set_ylabel('Count',fontsize=16,rotation=90)\n",
        "ax.grid(False)"
      ],
      "metadata": {
        "colab": {
          "base_uri": "https://localhost:8080/",
          "height": 986
        },
        "id": "U6B6WpQMXbh9",
        "outputId": "67c7653a-a3e9-4016-f36d-b6551b7f124c"
      },
      "execution_count": null,
      "outputs": [
        {
          "output_type": "display_data",
          "data": {
            "text/plain": [
              "<Figure size 1600x1400 with 1 Axes>"
            ],
            "image/png": "[encoded data removed]"
          },
          "metadata": {
            "needs_background": "light"
          }
        }
      ]
    }
  ]
}